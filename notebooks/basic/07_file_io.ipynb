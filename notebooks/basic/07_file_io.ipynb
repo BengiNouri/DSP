{
 "cells": [
  {
   "cell_type": "markdown",
   "metadata": {},
   "source": [
    "# [File I/O](https://docs.python.org/3/tutorial/inputoutput.html#reading-and-writing-files)\n",
    "Reading and writing files."
   ]
  },
  {
   "cell_type": "markdown",
   "metadata": {},
   "source": [
    "## Working with paths"
   ]
  },
  {
   "cell_type": "code",
   "execution_count": 1,
   "metadata": {},
   "outputs": [
    {
     "name": "stdout",
     "output_type": "stream",
     "text": [
      "current file: C:\\Users\\sajad\\DevRepos\\data-science-project\\notebooks\\basic\\07_file_io.ipynb\n"
     ]
    }
   ],
   "source": [
    "import os # import os is about getting the path of current file\n",
    "\n",
    "current_file = os.path.realpath('07_file_io.ipynb') # this function returns the absolute path of the file  \n",
    "print('current file: {}'.format(current_file)) # this prints the absolute path of the file\n",
    "# Note: in .py files you can get the path of current file by __file__"
   ]
  },
  {
   "cell_type": "code",
   "execution_count": 2,
   "metadata": {},
   "outputs": [
    {
     "name": "stdout",
     "output_type": "stream",
     "text": [
      "current directory: C:\\Users\\sajad\\DevRepos\\data-science-project\\notebooks\\basic\n"
     ]
    }
   ],
   "source": [
    "current_dir = os.path.dirname(current_file)  # this checks the directory of the file\n",
    "print('current directory: {}'.format(current_dir)) # this prints the directory of the file\n",
    "# Note: in .py files you can get the dir of current file by os.path.dirname(__file__)"
   ]
  },
  {
   "cell_type": "code",
   "execution_count": 3,
   "metadata": {},
   "outputs": [
    {
     "name": "stdout",
     "output_type": "stream",
     "text": [
      "data directory: C:\\Users\\sajad\\DevRepos\\data-science-project\\notebooks\\basic\\data\n"
     ]
    }
   ],
   "source": [
    "data_dir = os.path.join(os.path.dirname(current_file), 'data') # this joins the directory of the file with the data folder. notice the data at the end  \n",
    "print('data directory: {}'.format(data_dir)) # this prints the directory of the data folder"
   ]
  },
  {
   "cell_type": "markdown",
   "metadata": {},
   "source": [
    "### Checking if path exists"
   ]
  },
  {
   "cell_type": "code",
   "execution_count": 4,
   "metadata": {},
   "outputs": [
    {
     "name": "stdout",
     "output_type": "stream",
     "text": [
      "exists: True\n",
      "is file: True\n",
      "is directory: True\n"
     ]
    }
   ],
   "source": [
    "print('exists: {}'.format(os.path.exists(current_dir))) # this is a function that checks if the directory exists\n",
    "print('is file: {}'.format(os.path.isfile(current_file))) # this is a function that checks if the file exists\n",
    "print('is directory: {}'.format(os.path.isdir(data_dir))) # this is a function that checks if the directory exists"
   ]
  },
  {
   "cell_type": "markdown",
   "metadata": {},
   "source": [
    "## Reading files"
   ]
  },
  {
   "cell_type": "code",
   "execution_count": 5,
   "metadata": {},
   "outputs": [
    {
     "name": "stdout",
     "output_type": "stream",
     "text": [
      "First line\n",
      "Second line\n",
      "Third\n",
      "And so the story goes!\n"
     ]
    }
   ],
   "source": [
    "file_path = os.path.join(data_dir, 'simple_file.txt') # this joins the data directory with the simple_file.txt from the data folder\n",
    "\n",
    "with open(file_path, 'r') as simple_file: # this opens the file in read mode\n",
    "    for line in simple_file: # this loops through the file\n",
    "        print(line.strip()) # this prints the file without the white spaces"
   ]
  },
  {
   "cell_type": "markdown",
   "metadata": {},
   "source": [
    "The [`with`](https://docs.python.org/3/reference/compound_stmts.html#the-with-statement) statement is for obtaining a [context manager](https://docs.python.org/3/reference/datamodel.html#with-statement-context-managers) that will be used as an execution context for the commands inside the `with`. Context managers guarantee that certain operations are done when exiting the context. \n",
    "\n",
    "In this case, the context manager guarantees that `simple_file.close()` is implicitly called when exiting the context. This is a way to make developers life easier: you don't have to remember to explicitly close the file you openened nor be worried about an exception occuring while the file is open. Unclosed file maybe a source of a resource leak. Thus, prefer using `with open()` structure always with file I/O.\n",
    "\n",
    "To have an example, the same as above without the `with`."
   ]
  },
  {
   "cell_type": "code",
   "execution_count": 7,
   "metadata": {},
   "outputs": [
    {
     "name": "stdout",
     "output_type": "stream",
     "text": [
      "First line\n",
      "Second line\n",
      "Third\n",
      "And so the story goes!\n"
     ]
    }
   ],
   "source": [
    "file_path = os.path.join(data_dir, 'simple_file.txt') # this joins the data directory with the simple_file.txt from the data folder\n",
    "\n",
    "# THIS IS NOT THE PREFERRED WAY\n",
    "simple_file = open(file_path, 'r') # this opens the file in read mode\n",
    "for line in simple_file: # this loops through the file\n",
    "    print(line.strip()) # this prints the file without the white spaces\n",
    "simple_file.close()  # This has to be called explicitly "
   ]
  },
  {
   "cell_type": "markdown",
   "metadata": {},
   "source": [
    "## Writing files"
   ]
  },
  {
   "cell_type": "code",
   "execution_count": 6,
   "metadata": {},
   "outputs": [],
   "source": [
    "new_file_path = os.path.join(data_dir, 'new_file.txt') # this joins the data directory with the new_file.txt from the data folder\n",
    "\n",
    "with open(new_file_path, 'w') as my_file: # this opens the file in write mode\n",
    "    my_file.write('This is my first file that I wrote with Python.') # this writes the text in the file"
   ]
  },
  {
   "cell_type": "markdown",
   "metadata": {},
   "source": [
    "Now go and check that there is a new_file.txt in the data directory. After that you can delete the file by:"
   ]
  },
  {
   "cell_type": "code",
   "execution_count": 8,
   "metadata": {},
   "outputs": [],
   "source": [
    "if os.path.exists(new_file_path):  # this checks if the file exists\n",
    "    os.remove(new_file_path) # this removes the file"
   ]
  },
  {
   "cell_type": "markdown",
   "metadata": {},
   "source": [
    "return to [overview](../00_overview.ipynb)"
   ]
  }
 ],
 "metadata": {
  "kernelspec": {
   "display_name": "Python 3 (ipykernel)",
   "language": "python",
   "name": "python3"
  },
  "language_info": {
   "codemirror_mode": {
    "name": "ipython",
    "version": 3
   },
   "file_extension": ".py",
   "mimetype": "text/x-python",
   "name": "python",
   "nbconvert_exporter": "python",
   "pygments_lexer": "ipython3",
   "version": "3.12.2"
  }
 },
 "nbformat": 4,
 "nbformat_minor": 4
}
